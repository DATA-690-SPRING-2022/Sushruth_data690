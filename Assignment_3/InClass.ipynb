{
  "nbformat": 4,
  "nbformat_minor": 0,
  "metadata": {
    "colab": {
      "name": "InClass.ipynb",
      "provenance": [],
      "authorship_tag": "ABX9TyMmxIAJRjHK+FkmAlmAmu7l",
      "include_colab_link": true
    },
    "kernelspec": {
      "name": "python3",
      "display_name": "Python 3"
    },
    "language_info": {
      "name": "python"
    }
  },
  "cells": [
    {
      "cell_type": "markdown",
      "metadata": {
        "id": "view-in-github",
        "colab_type": "text"
      },
      "source": [
        "<a href=\"https://colab.research.google.com/github/SushruthDt/Sushruth_data690/blob/main/Assignment_3/InClass.ipynb\" target=\"_parent\"><img src=\"https://colab.research.google.com/assets/colab-badge.svg\" alt=\"Open In Colab\"/></a>"
      ]
    },
    {
      "cell_type": "markdown",
      "source": [
        "# In class Excercise\n",
        "\n",
        "Importing python custom developed modules \n"
      ],
      "metadata": {
        "id": "9aSjhF0WCGo2"
      }
    },
    {
      "cell_type": "code",
      "source": [
        "import myfunction"
      ],
      "metadata": {
        "id": "AdP3-eOSCJBc"
      },
      "execution_count": 2,
      "outputs": []
    },
    {
      "cell_type": "code",
      "source": [
        "x = myfunction.min([3,7,8,3,2,4,5,6])\n",
        "print(x)"
      ],
      "metadata": {
        "colab": {
          "base_uri": "https://localhost:8080/"
        },
        "id": "T9rc2bGZDDgl",
        "outputId": "917e3bc0-98db-49df-8d17-6f299a5d508d"
      },
      "execution_count": 4,
      "outputs": [
        {
          "output_type": "stream",
          "name": "stdout",
          "text": [
            "2\n"
          ]
        }
      ]
    },
    {
      "cell_type": "code",
      "source": [
        "x = myfunction.max([3,7,8,3,2,4,5,6])\n",
        "print(x)"
      ],
      "metadata": {
        "colab": {
          "base_uri": "https://localhost:8080/"
        },
        "id": "0EyYln3oDNm8",
        "outputId": "6d9a42fb-402e-40fa-a343-877fadcb4484"
      },
      "execution_count": 5,
      "outputs": [
        {
          "output_type": "stream",
          "name": "stdout",
          "text": [
            "8\n"
          ]
        }
      ]
    }
  ]
}