{
  "nbformat": 4,
  "nbformat_minor": 0,
  "metadata": {
    "colab": {
      "name": "Help_for_homework.ipynb",
      "provenance": []
    },
    "kernelspec": {
      "name": "python3",
      "display_name": "Python 3"
    },
    "language_info": {
      "name": "python"
    }
  },
  "cells": [
    {
      "cell_type": "code",
      "source": [
        "import random"
      ],
      "metadata": {
        "id": "R2N39vLP13mq"
      },
      "execution_count": 8,
      "outputs": []
    },
    {
      "cell_type": "code",
      "source": [
        "for x in range(10):\n",
        " for i in range(10):\n",
        "   print(random.randint(1,9), end=' ')\n",
        " print(' ')"
      ],
      "metadata": {
        "colab": {
          "base_uri": "https://localhost:8080/"
        },
        "id": "piIROwPQxIqO",
        "outputId": "29bef99d-1697-4332-8505-d8b6237dd28e"
      },
      "execution_count": 13,
      "outputs": [
        {
          "output_type": "stream",
          "name": "stdout",
          "text": [
            "7 4 4 6 4 2 3 6 8 8  \n",
            "6 1 2 7 9 3 8 5 9 3  \n",
            "5 1 4 4 7 2 9 3 9 2  \n",
            "1 4 8 7 6 7 7 5 8 9  \n",
            "8 6 1 9 2 4 8 7 2 2  \n",
            "8 9 1 4 6 5 2 7 7 3  \n",
            "5 6 5 7 2 5 7 5 1 3  \n",
            "5 5 6 8 6 7 9 7 1 9  \n",
            "3 2 3 3 2 1 6 9 6 1  \n",
            "6 5 8 1 2 8 8 5 5 5  \n"
          ]
        }
      ]
    }
  ]
}