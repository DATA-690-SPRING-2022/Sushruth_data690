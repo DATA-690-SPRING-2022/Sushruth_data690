{
  "nbformat": 4,
  "nbformat_minor": 0,
  "metadata": {
    "colab": {
      "name": "Assignment4_Part1.ipynb",
      "provenance": [],
      "collapsed_sections": [],
      "authorship_tag": "ABX9TyNcUVs+ZeJvC5vA8t70iyj5",
      "include_colab_link": true
    },
    "kernelspec": {
      "name": "python3",
      "display_name": "Python 3"
    },
    "language_info": {
      "name": "python"
    }
  },
  "cells": [
    {
      "cell_type": "markdown",
      "metadata": {
        "id": "view-in-github",
        "colab_type": "text"
      },
      "source": [
        "<a href=\"https://colab.research.google.com/github/SushruthDt/Sushruth_data690/blob/main/Assignment_4/Assignment4_Part1.ipynb\" target=\"_parent\"><img src=\"https://colab.research.google.com/assets/colab-badge.svg\" alt=\"Open In Colab\"/></a>"
      ]
    },
    {
      "cell_type": "markdown",
      "source": [
        "Assignment 4 - Part A - Using Python\n",
        "--------------------\n",
        "- Author - Sushruth\n",
        "- Campus ID - MM73053\n",
        "--------------------\n"
      ],
      "metadata": {
        "id": "0btFxEv0OsA8"
      }
    },
    {
      "cell_type": "markdown",
      "source": [
        " - Write code to open the text file census_costs.txt and read all lines into a list named \"line_list\". Print line_list.\n",
        " - Extract the first two lines and put them in a different list named \"top2_list\". You will need to use them later. Print the top2_list.\n",
        " - Put the rest of the lines (containing useful data elements) in a new list named \"data_list\". Print data_list.\n",
        " - Extract the column \"Census Year\" from data_list and assign them to a list named year_list. Remove the \"*\" from the last element \"2010*\". Print the cleansed year_list.\n",
        " - Extract the \"Total Population\" column from the data_list and assign them to a list named \"pop_list\". Remove the \",\" from the numbers since Python doesn't recognize them. Print the cleansed \"pop_list\".\n",
        " - Extract the \"Census Cost\" column from the data_list and assign them to a list named 'cost_list\". Remove the '\",\", and \"$\", and \"'Billion\". Make sure to add the \"0\"s to the numbers from which you removed \"Billion\". Print the cleansed cost_list'.\n",
        " - Extract the \"Average Cost per Person\" column from the data_list and assign them to a list named \"avg_list\". Remove the \"cents\", and \"$\". Make sure to divide the numbers in cents by 100 so that all numbers are measured in dollar. Print the cleansed avg_list.\n",
        " - Coalesce the cleansed data and save them to a text file named \"census_cost.csv\". The new file should look similar to the original source file except that it is in comma-delimited format and the numbers have been cleansed. The top two lines from the original file should be retained in the new file.\n",
        " - Write code to open the newly-created file \"census_cost.csv\", read all lines and display them. How does it look?\n",
        " - Upload the output file to your GitHub repository."
      ],
      "metadata": {
        "id": "nIDrBpYURIVz"
      }
    },
    {
      "cell_type": "code",
      "source": [
        "# Write code to open the text file census_costs.txt and read all lines into a list named \"line_list\".\n",
        "with open(\"census_costs.txt\",\"r\") as f:\n",
        "  line_list=f.readlines()\n",
        "line_list"
      ],
      "metadata": {
        "colab": {
          "base_uri": "https://localhost:8080/"
        },
        "id": "M8A8aHaRO4pA",
        "outputId": "38953f1c-2377-48a2-bb04-a3d44ccb3ebf"
      },
      "execution_count": 42,
      "outputs": [
        {
          "output_type": "execute_result",
          "data": {
            "text/plain": [
              "['Source: https://www.genealogybranches.com/censuscosts.html\\n',\n",
              " 'Census Year\\tTotal Population\\tCensus Cost\\tAverage Cost Per Person\\n',\n",
              " '1790\\t3,929,214\\t$44,377\\t1.13 cents\\n',\n",
              " '1800\\t5,308,483\\t$66,109\\t1.24 cents\\n',\n",
              " '1810\\t7,239,881\\t$178,445\\t2.46 cents\\n',\n",
              " '1820\\t9,633,822\\t$208,526\\t2.16 cents\\n',\n",
              " '1830\\t12,866,020\\t$378,545\\t2.94 cents\\n',\n",
              " '1840\\t17,069,458\\t$833,371\\t4.88 cents\\n',\n",
              " '1850\\t23,191,876\\t$1,423,351\\t6.14 cents\\n',\n",
              " '1860\\t31,443,321\\t$1,969,377\\t6.26 cents\\n',\n",
              " '1870\\t38,558,371\\t$3,421,198\\t8.87 cents\\n',\n",
              " '1880\\t50,155,783\\t$5,790,678\\t11.54 cents\\n',\n",
              " '1890\\t62,979,766\\t$11,547,127\\t18.33 cents\\n',\n",
              " '1900\\t76,303,387\\t$11,854,000\\t15.54 cents\\n',\n",
              " '1910\\t91,972,266\\t$15,968,000\\t17.07 cents\\n',\n",
              " '1920\\t105,710,620\\t$25,117,000\\t23.76 cents\\n',\n",
              " '1930\\t122,775,046\\t$40,156,000\\t32.71 cents\\n',\n",
              " '1940\\t131,669,275\\t$67,527,000\\t51.29 cents\\n',\n",
              " '1950\\t151,325,798\\t$91,462,000\\t60.44 cents\\n',\n",
              " '1960\\t179,323,175\\t$127,934,000\\t71.34 cents\\n',\n",
              " '1970\\t203,302,031\\t$247,653,000\\t$1.22\\n',\n",
              " '1980\\t226,542,199\\t$1,078,488,000\\t$4.76\\n',\n",
              " '1990\\t248,718,301\\t$2,492,830,000\\t$10.02\\n',\n",
              " '2000\\t281,421,906\\t$4.5 Billion\\t$15.99\\n',\n",
              " '2010*\\t308,745,538\\t$13 Billion\\t$42.11\\n']"
            ]
          },
          "metadata": {},
          "execution_count": 42
        }
      ]
    },
    {
      "cell_type": "code",
      "source": [
        "# Print line_list.\n",
        "for line in line_list:\n",
        "  print(line)"
      ],
      "metadata": {
        "colab": {
          "base_uri": "https://localhost:8080/"
        },
        "id": "9NXD1mJ-Q9GF",
        "outputId": "dab5d1c9-781e-468e-aef4-9463f3a16199"
      },
      "execution_count": 43,
      "outputs": [
        {
          "output_type": "stream",
          "name": "stdout",
          "text": [
            "Source: https://www.genealogybranches.com/censuscosts.html\n",
            "\n",
            "Census Year\tTotal Population\tCensus Cost\tAverage Cost Per Person\n",
            "\n",
            "1790\t3,929,214\t$44,377\t1.13 cents\n",
            "\n",
            "1800\t5,308,483\t$66,109\t1.24 cents\n",
            "\n",
            "1810\t7,239,881\t$178,445\t2.46 cents\n",
            "\n",
            "1820\t9,633,822\t$208,526\t2.16 cents\n",
            "\n",
            "1830\t12,866,020\t$378,545\t2.94 cents\n",
            "\n",
            "1840\t17,069,458\t$833,371\t4.88 cents\n",
            "\n",
            "1850\t23,191,876\t$1,423,351\t6.14 cents\n",
            "\n",
            "1860\t31,443,321\t$1,969,377\t6.26 cents\n",
            "\n",
            "1870\t38,558,371\t$3,421,198\t8.87 cents\n",
            "\n",
            "1880\t50,155,783\t$5,790,678\t11.54 cents\n",
            "\n",
            "1890\t62,979,766\t$11,547,127\t18.33 cents\n",
            "\n",
            "1900\t76,303,387\t$11,854,000\t15.54 cents\n",
            "\n",
            "1910\t91,972,266\t$15,968,000\t17.07 cents\n",
            "\n",
            "1920\t105,710,620\t$25,117,000\t23.76 cents\n",
            "\n",
            "1930\t122,775,046\t$40,156,000\t32.71 cents\n",
            "\n",
            "1940\t131,669,275\t$67,527,000\t51.29 cents\n",
            "\n",
            "1950\t151,325,798\t$91,462,000\t60.44 cents\n",
            "\n",
            "1960\t179,323,175\t$127,934,000\t71.34 cents\n",
            "\n",
            "1970\t203,302,031\t$247,653,000\t$1.22\n",
            "\n",
            "1980\t226,542,199\t$1,078,488,000\t$4.76\n",
            "\n",
            "1990\t248,718,301\t$2,492,830,000\t$10.02\n",
            "\n",
            "2000\t281,421,906\t$4.5 Billion\t$15.99\n",
            "\n",
            "2010*\t308,745,538\t$13 Billion\t$42.11\n",
            "\n"
          ]
        }
      ]
    },
    {
      "cell_type": "code",
      "source": [
        "#Extract the first two lines and put them in a different list named \"top2_list\". You will need to use them later. Print the top2_list.\n",
        "top2_list = line_list[:2]\n",
        "top2_list"
      ],
      "metadata": {
        "colab": {
          "base_uri": "https://localhost:8080/"
        },
        "id": "nU_t4CH0RhXz",
        "outputId": "cfb3c6bb-0b0d-4111-8b67-6101ba935b37"
      },
      "execution_count": 44,
      "outputs": [
        {
          "output_type": "execute_result",
          "data": {
            "text/plain": [
              "['Source: https://www.genealogybranches.com/censuscosts.html\\n',\n",
              " 'Census Year\\tTotal Population\\tCensus Cost\\tAverage Cost Per Person\\n']"
            ]
          },
          "metadata": {},
          "execution_count": 44
        }
      ]
    },
    {
      "cell_type": "code",
      "source": [
        "#Put the rest of the lines (containing useful data elements) in a new list named \"data_list\". Print data_list.\n",
        "data_list = line_list[2:]\n",
        "data_list"
      ],
      "metadata": {
        "colab": {
          "base_uri": "https://localhost:8080/"
        },
        "id": "gnL0mAQ4RzP0",
        "outputId": "973bdbb5-c34b-4c3d-a212-770491216fab"
      },
      "execution_count": 45,
      "outputs": [
        {
          "output_type": "execute_result",
          "data": {
            "text/plain": [
              "['1790\\t3,929,214\\t$44,377\\t1.13 cents\\n',\n",
              " '1800\\t5,308,483\\t$66,109\\t1.24 cents\\n',\n",
              " '1810\\t7,239,881\\t$178,445\\t2.46 cents\\n',\n",
              " '1820\\t9,633,822\\t$208,526\\t2.16 cents\\n',\n",
              " '1830\\t12,866,020\\t$378,545\\t2.94 cents\\n',\n",
              " '1840\\t17,069,458\\t$833,371\\t4.88 cents\\n',\n",
              " '1850\\t23,191,876\\t$1,423,351\\t6.14 cents\\n',\n",
              " '1860\\t31,443,321\\t$1,969,377\\t6.26 cents\\n',\n",
              " '1870\\t38,558,371\\t$3,421,198\\t8.87 cents\\n',\n",
              " '1880\\t50,155,783\\t$5,790,678\\t11.54 cents\\n',\n",
              " '1890\\t62,979,766\\t$11,547,127\\t18.33 cents\\n',\n",
              " '1900\\t76,303,387\\t$11,854,000\\t15.54 cents\\n',\n",
              " '1910\\t91,972,266\\t$15,968,000\\t17.07 cents\\n',\n",
              " '1920\\t105,710,620\\t$25,117,000\\t23.76 cents\\n',\n",
              " '1930\\t122,775,046\\t$40,156,000\\t32.71 cents\\n',\n",
              " '1940\\t131,669,275\\t$67,527,000\\t51.29 cents\\n',\n",
              " '1950\\t151,325,798\\t$91,462,000\\t60.44 cents\\n',\n",
              " '1960\\t179,323,175\\t$127,934,000\\t71.34 cents\\n',\n",
              " '1970\\t203,302,031\\t$247,653,000\\t$1.22\\n',\n",
              " '1980\\t226,542,199\\t$1,078,488,000\\t$4.76\\n',\n",
              " '1990\\t248,718,301\\t$2,492,830,000\\t$10.02\\n',\n",
              " '2000\\t281,421,906\\t$4.5 Billion\\t$15.99\\n',\n",
              " '2010*\\t308,745,538\\t$13 Billion\\t$42.11\\n']"
            ]
          },
          "metadata": {},
          "execution_count": 45
        }
      ]
    },
    {
      "cell_type": "code",
      "source": [
        "#Extract the column \"Census Year\" from data_list and assign them to a list named year_list. \n",
        "year_list = [line.split(\"\\t\")[0] for line in data_list]\n",
        "year_list"
      ],
      "metadata": {
        "colab": {
          "base_uri": "https://localhost:8080/"
        },
        "id": "mbiOvj09SjBY",
        "outputId": "793f5fc7-d414-41fe-ad08-57e70ebf6f2c"
      },
      "execution_count": 46,
      "outputs": [
        {
          "output_type": "execute_result",
          "data": {
            "text/plain": [
              "['1790',\n",
              " '1800',\n",
              " '1810',\n",
              " '1820',\n",
              " '1830',\n",
              " '1840',\n",
              " '1850',\n",
              " '1860',\n",
              " '1870',\n",
              " '1880',\n",
              " '1890',\n",
              " '1900',\n",
              " '1910',\n",
              " '1920',\n",
              " '1930',\n",
              " '1940',\n",
              " '1950',\n",
              " '1960',\n",
              " '1970',\n",
              " '1980',\n",
              " '1990',\n",
              " '2000',\n",
              " '2010*']"
            ]
          },
          "metadata": {},
          "execution_count": 46
        }
      ]
    },
    {
      "cell_type": "code",
      "source": [
        "#Remove the \"*\" from the last element \"2010*\". Print the cleansed_year_list\n",
        "\n",
        "cleansed_year_list = [year.replace(\"*\",\"\") for year in year_list]\n",
        "cleansed_year_list"
      ],
      "metadata": {
        "colab": {
          "base_uri": "https://localhost:8080/"
        },
        "id": "Y_qqDFPtS0Sg",
        "outputId": "71ce5ecb-afe0-41e4-d1cb-3b033633cc48"
      },
      "execution_count": 47,
      "outputs": [
        {
          "output_type": "execute_result",
          "data": {
            "text/plain": [
              "['1790',\n",
              " '1800',\n",
              " '1810',\n",
              " '1820',\n",
              " '1830',\n",
              " '1840',\n",
              " '1850',\n",
              " '1860',\n",
              " '1870',\n",
              " '1880',\n",
              " '1890',\n",
              " '1900',\n",
              " '1910',\n",
              " '1920',\n",
              " '1930',\n",
              " '1940',\n",
              " '1950',\n",
              " '1960',\n",
              " '1970',\n",
              " '1980',\n",
              " '1990',\n",
              " '2000',\n",
              " '2010']"
            ]
          },
          "metadata": {},
          "execution_count": 47
        }
      ]
    },
    {
      "cell_type": "code",
      "source": [
        "#Extract the \"Total Population\" column from the data_list and assign them to a list named \"pop_list\".\n",
        "\n",
        "pop_list = [line.split(\"\\t\")[1] for line in data_list]\n",
        "pop_list"
      ],
      "metadata": {
        "colab": {
          "base_uri": "https://localhost:8080/"
        },
        "id": "dB1aays3TN1-",
        "outputId": "cfb76eec-4fce-4c87-f0c1-dbbd92c15161"
      },
      "execution_count": 48,
      "outputs": [
        {
          "output_type": "execute_result",
          "data": {
            "text/plain": [
              "['3,929,214',\n",
              " '5,308,483',\n",
              " '7,239,881',\n",
              " '9,633,822',\n",
              " '12,866,020',\n",
              " '17,069,458',\n",
              " '23,191,876',\n",
              " '31,443,321',\n",
              " '38,558,371',\n",
              " '50,155,783',\n",
              " '62,979,766',\n",
              " '76,303,387',\n",
              " '91,972,266',\n",
              " '105,710,620',\n",
              " '122,775,046',\n",
              " '131,669,275',\n",
              " '151,325,798',\n",
              " '179,323,175',\n",
              " '203,302,031',\n",
              " '226,542,199',\n",
              " '248,718,301',\n",
              " '281,421,906',\n",
              " '308,745,538']"
            ]
          },
          "metadata": {},
          "execution_count": 48
        }
      ]
    },
    {
      "cell_type": "code",
      "source": [
        "# Remove the \",\" from the numbers since Python doesn't recognize them. Print the cleansed \"pop_list\".\n",
        "pop_list_cleansed = [int(pop.replace(\",\",\"\")) for pop in pop_list]\n",
        "pop_list_cleansed"
      ],
      "metadata": {
        "colab": {
          "base_uri": "https://localhost:8080/"
        },
        "id": "IZ-ovWWrTgfV",
        "outputId": "de1f166d-85b5-49d3-82e1-c583b9d8142d"
      },
      "execution_count": 49,
      "outputs": [
        {
          "output_type": "execute_result",
          "data": {
            "text/plain": [
              "[3929214,\n",
              " 5308483,\n",
              " 7239881,\n",
              " 9633822,\n",
              " 12866020,\n",
              " 17069458,\n",
              " 23191876,\n",
              " 31443321,\n",
              " 38558371,\n",
              " 50155783,\n",
              " 62979766,\n",
              " 76303387,\n",
              " 91972266,\n",
              " 105710620,\n",
              " 122775046,\n",
              " 131669275,\n",
              " 151325798,\n",
              " 179323175,\n",
              " 203302031,\n",
              " 226542199,\n",
              " 248718301,\n",
              " 281421906,\n",
              " 308745538]"
            ]
          },
          "metadata": {},
          "execution_count": 49
        }
      ]
    },
    {
      "cell_type": "code",
      "source": [
        "#Extract the \"Census Cost\" column from the data_list and assign them to a list named \"cost_list\". \n",
        "\n",
        "cost_list = [line.split(\"\\t\")[2] for line in data_list]\n",
        "cost_list"
      ],
      "metadata": {
        "colab": {
          "base_uri": "https://localhost:8080/"
        },
        "id": "39nZFSfzTjZ3",
        "outputId": "cfd7e198-be5c-4f75-f756-d56dcc77b416"
      },
      "execution_count": 50,
      "outputs": [
        {
          "output_type": "execute_result",
          "data": {
            "text/plain": [
              "['$44,377',\n",
              " '$66,109',\n",
              " '$178,445',\n",
              " '$208,526',\n",
              " '$378,545',\n",
              " '$833,371',\n",
              " '$1,423,351',\n",
              " '$1,969,377',\n",
              " '$3,421,198',\n",
              " '$5,790,678',\n",
              " '$11,547,127',\n",
              " '$11,854,000',\n",
              " '$15,968,000',\n",
              " '$25,117,000',\n",
              " '$40,156,000',\n",
              " '$67,527,000',\n",
              " '$91,462,000',\n",
              " '$127,934,000',\n",
              " '$247,653,000',\n",
              " '$1,078,488,000',\n",
              " '$2,492,830,000',\n",
              " '$4.5 Billion',\n",
              " '$13 Billion']"
            ]
          },
          "metadata": {},
          "execution_count": 50
        }
      ]
    },
    {
      "cell_type": "code",
      "source": [
        "#Remove the \",\", and \" \",and\"Billion\".Makesuretoaddthe\"0\"stothenumbersfromwhichyouremoved\"Billion\".Printthecleansedcostlist.\n",
        "def cleanse_cost(total_cost):\n",
        "    new_cost = total_cost.replace(\"$\", \"\").replace(\",\",\"\").replace(\" Billion\", \"000000000000\").replace(\".50\", \"5\")\n",
        "    return new_cost\n",
        "\n",
        "cost_list_cleansed = [cleanse_cost(total_cost) for total_cost in cost_list]\n",
        "cost_list_cleansed = [int(cost) for cost in cost_list_cleansed]\n",
        "cost_list_cleansed\n",
        "\n",
        "\n",
        "\n",
        "\n"
      ],
      "metadata": {
        "colab": {
          "base_uri": "https://localhost:8080/"
        },
        "id": "zSrDth0TUD4J",
        "outputId": "90cb1344-7814-44c3-b5ca-999794cca575"
      },
      "execution_count": 51,
      "outputs": [
        {
          "output_type": "execute_result",
          "data": {
            "text/plain": [
              "[44377,\n",
              " 66109,\n",
              " 178445,\n",
              " 208526,\n",
              " 378545,\n",
              " 833371,\n",
              " 1423351,\n",
              " 1969377,\n",
              " 3421198,\n",
              " 5790678,\n",
              " 11547127,\n",
              " 11854000,\n",
              " 15968000,\n",
              " 25117000,\n",
              " 40156000,\n",
              " 67527000,\n",
              " 91462000,\n",
              " 127934000,\n",
              " 247653000,\n",
              " 1078488000,\n",
              " 2492830000,\n",
              " 4500000000000,\n",
              " 13000000000000]"
            ]
          },
          "metadata": {},
          "execution_count": 51
        }
      ]
    },
    {
      "cell_type": "code",
      "source": [
        "#Extractthe\"AverageCostperPerson\"columnfromthedatalistandassignthemtoalistnamed\"avglist\".Removethe\"cents\",and\" \". \n",
        "average_list = [line.split(\"\\t\")[3] for line in data_list]\n",
        "average_list"
      ],
      "metadata": {
        "colab": {
          "base_uri": "https://localhost:8080/"
        },
        "id": "ClilPRxVUUjo",
        "outputId": "13d43435-00a4-476a-8617-3d20b7052240"
      },
      "execution_count": 52,
      "outputs": [
        {
          "output_type": "execute_result",
          "data": {
            "text/plain": [
              "['1.13 cents\\n',\n",
              " '1.24 cents\\n',\n",
              " '2.46 cents\\n',\n",
              " '2.16 cents\\n',\n",
              " '2.94 cents\\n',\n",
              " '4.88 cents\\n',\n",
              " '6.14 cents\\n',\n",
              " '6.26 cents\\n',\n",
              " '8.87 cents\\n',\n",
              " '11.54 cents\\n',\n",
              " '18.33 cents\\n',\n",
              " '15.54 cents\\n',\n",
              " '17.07 cents\\n',\n",
              " '23.76 cents\\n',\n",
              " '32.71 cents\\n',\n",
              " '51.29 cents\\n',\n",
              " '60.44 cents\\n',\n",
              " '71.34 cents\\n',\n",
              " '$1.22\\n',\n",
              " '$4.76\\n',\n",
              " '$10.02\\n',\n",
              " '$15.99\\n',\n",
              " '$42.11\\n']"
            ]
          },
          "metadata": {},
          "execution_count": 52
        }
      ]
    },
    {
      "cell_type": "code",
      "source": [
        "#Make sure to divide the numbers in cents by 100 so that all numbers are measured in dollar. Print the cleansed avg_list.\n",
        "\n",
        "def cleanse_average(average):\n",
        "\n",
        "    new_average = average.replace(\"cents\\n\", \"\").replace(\"\\n\",\"\")\n",
        "\n",
        "    if \"$\" in new_average:\n",
        "        new_average =round(float(new_average.replace(\"$\",\"\")),2)\n",
        "    else:\n",
        "        new_average = round(float(new_average) / 100, 2)\n",
        "\n",
        "    return new_average\n",
        "\n",
        "average_list_cleansed = [cleanse_average(average) for average in average_list]\n",
        "average_list_cleansed"
      ],
      "metadata": {
        "colab": {
          "base_uri": "https://localhost:8080/"
        },
        "id": "hvkoShFjUd8h",
        "outputId": "41599e48-19e7-4aa2-d936-51c1b023d326"
      },
      "execution_count": 53,
      "outputs": [
        {
          "output_type": "execute_result",
          "data": {
            "text/plain": [
              "[0.01,\n",
              " 0.01,\n",
              " 0.02,\n",
              " 0.02,\n",
              " 0.03,\n",
              " 0.05,\n",
              " 0.06,\n",
              " 0.06,\n",
              " 0.09,\n",
              " 0.12,\n",
              " 0.18,\n",
              " 0.16,\n",
              " 0.17,\n",
              " 0.24,\n",
              " 0.33,\n",
              " 0.51,\n",
              " 0.6,\n",
              " 0.71,\n",
              " 1.22,\n",
              " 4.76,\n",
              " 10.02,\n",
              " 15.99,\n",
              " 42.11]"
            ]
          },
          "metadata": {},
          "execution_count": 53
        }
      ]
    },
    {
      "cell_type": "code",
      "source": [
        "#Coalesce the cleansed data and save them to a text file named \"census_cost.csv\". \n",
        "#The new file should look similar to the original source file except that it is in comma-delimited format and the numbers have been cleansed. \n",
        "#The top two lines from the original file should be retained in the new file.\n",
        "final_data_list=[]\n",
        "final_data_list.append(top2_list[0])\n",
        "final_data_list.append(top2_list[1])\n",
        "\n",
        "for i in range(0,len(pop_list_cleansed)):\n",
        "  string1 = str(year_list_cleansed[i])+\"  \"+str(pop_list_cleansed[i])+\" \"+str(cost_list_cleansed[i])+\"  \"+str(average_list_cleansed[i])\n",
        "  final_data_list.append(string1)\n",
        "print(final_data_list)"
      ],
      "metadata": {
        "colab": {
          "base_uri": "https://localhost:8080/"
        },
        "id": "cTGe6oTBVWIH",
        "outputId": "9a9d886a-281c-4a8b-c060-0e02d413b6e5"
      },
      "execution_count": 54,
      "outputs": [
        {
          "output_type": "stream",
          "name": "stdout",
          "text": [
            "['Source: https://www.genealogybranches.com/censuscosts.html\\n', 'Census Year\\tTotal Population\\tCensus Cost\\tAverage Cost Per Person\\n', '1790  3929214 44377  0.01', '1800  5308483 66109  0.01', '1810  7239881 178445  0.02', '1820  9633822 208526  0.02', '1830  12866020 378545  0.03', '1840  17069458 833371  0.05', '1850  23191876 1423351  0.06', '1860  31443321 1969377  0.06', '1870  38558371 3421198  0.09', '1880  50155783 5790678  0.12', '1890  62979766 11547127  0.18', '1900  76303387 11854000  0.16', '1910  91972266 15968000  0.17', '1920  105710620 25117000  0.24', '1930  122775046 40156000  0.33', '1940  131669275 67527000  0.51', '1950  151325798 91462000  0.6', '1960  179323175 127934000  0.71', '1970  203302031 247653000  1.22', '1980  226542199 1078488000  4.76', '1990  248718301 2492830000  10.02', '2000  281421906 4500000000000  15.99', '2010  308745538 13000000000000  42.11']\n"
          ]
        }
      ]
    },
    {
      "cell_type": "code",
      "source": [
        "#Writing into file\n",
        "import csv\n",
        "with open(\"census_cost.csv\",\"w\") as f:\n",
        "\n",
        "  for i in final_data_list:\n",
        "    f.write(i)"
      ],
      "metadata": {
        "id": "LB4EXzjZVtq9"
      },
      "execution_count": 55,
      "outputs": []
    },
    {
      "cell_type": "code",
      "source": [
        "#Reading the newly created into file\n",
        "\n",
        "with open(\"census_cost.csv\", \"r\") as d:\n",
        "    displaylist = d.readlines()\n",
        "displaylist"
      ],
      "metadata": {
        "colab": {
          "base_uri": "https://localhost:8080/"
        },
        "id": "aBSrWTCqV3UD",
        "outputId": "5cc926e6-c9c4-45c7-e169-9f7ed1eab360"
      },
      "execution_count": 56,
      "outputs": [
        {
          "output_type": "execute_result",
          "data": {
            "text/plain": [
              "['Source: https://www.genealogybranches.com/censuscosts.html\\n',\n",
              " 'Census Year\\tTotal Population\\tCensus Cost\\tAverage Cost Per Person\\n',\n",
              " '1790  3929214 44377  0.011800  5308483 66109  0.011810  7239881 178445  0.021820  9633822 208526  0.021830  12866020 378545  0.031840  17069458 833371  0.051850  23191876 1423351  0.061860  31443321 1969377  0.061870  38558371 3421198  0.091880  50155783 5790678  0.121890  62979766 11547127  0.181900  76303387 11854000  0.161910  91972266 15968000  0.171920  105710620 25117000  0.241930  122775046 40156000  0.331940  131669275 67527000  0.511950  151325798 91462000  0.61960  179323175 127934000  0.711970  203302031 247653000  1.221980  226542199 1078488000  4.761990  248718301 2492830000  10.022000  281421906 4500000000000  15.992010  308745538 13000000000000  42.11']"
            ]
          },
          "metadata": {},
          "execution_count": 56
        }
      ]
    },
    {
      "cell_type": "code",
      "source": [
        "\n"
      ],
      "metadata": {
        "id": "LQ8cFSifUmT5"
      },
      "execution_count": 56,
      "outputs": []
    }
  ]
}